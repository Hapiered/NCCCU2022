{
 "cells": [
  {
   "cell_type": "code",
   "execution_count": 16,
   "metadata": {},
   "outputs": [],
   "source": [
    "import numpy as np\n",
    "import pandas as pd\n",
    "import time\n",
    "\n",
    "from sklearn.impute import SimpleImputer as Imputer #预处理模块\n",
    "from sklearn.model_selection import train_test_split #自动生成训练集和测试集模块\n",
    "from sklearn.metrics import classification_report #预测结果评估模块\n",
    "\n",
    "from sklearn.neighbors import KNeighborsClassifier #K近邻分类器\n",
    "from sklearn.tree import DecisionTreeClassifier #决策树分类器\n",
    "from sklearn.naive_bayes import GaussianNB #高斯朴素贝叶斯函数\n",
    "from sklearn.utils import shuffle"
   ]
  },
  {
   "cell_type": "code",
   "execution_count": 22,
   "metadata": {},
   "outputs": [],
   "source": [
    "file=\"train_data3.csv\"\n",
    "a=pd.read_csv(file)\n",
    "a=a.fillna(a.mean()[\"EuDist\":\"SimDist\"])\n",
    "p=shuffle(a)\n",
    "b=a[\"EuDist\"].values.tolist()\n",
    "m=[]\n",
    "for ib in b:\n",
    "    m.append([ib])\n",
    "    "
   ]
  },
  {
   "cell_type": "code",
   "execution_count": 13,
   "metadata": {},
   "outputs": [
    {
     "data": {
      "text/plain": [
       "349"
      ]
     },
     "execution_count": 13,
     "metadata": {},
     "output_type": "execute_result"
    }
   ],
   "source": [
    "u=a[\"EuDist\"].values"
   ]
  },
  {
   "cell_type": "code",
   "execution_count": 14,
   "metadata": {},
   "outputs": [
    {
     "data": {
      "text/plain": [
       "[[0.329118434],\n",
       " [0.338514306],\n",
       " [0.351873472],\n",
       " [0.364346719],\n",
       " [0.370767461],\n",
       " [0.37713192],\n",
       " [0.379113769],\n",
       " [0.381015076],\n",
       " [0.381180214],\n",
       " [0.383998495],\n",
       " [0.386682398],\n",
       " [0.404576435],\n",
       " [0.412110068],\n",
       " [0.427256706],\n",
       " [0.437295731],\n",
       " [0.437429279],\n",
       " [0.438537361],\n",
       " [0.439453529],\n",
       " [0.440140317],\n",
       " [0.442509656],\n",
       " [0.448193165],\n",
       " [0.453017675],\n",
       " [0.462984099],\n",
       " [0.462997831],\n",
       " [0.474445916],\n",
       " [0.474598226],\n",
       " [0.474668318],\n",
       " [0.476369063],\n",
       " [0.477089858],\n",
       " [0.481471623],\n",
       " [0.483671456],\n",
       " [0.484101092],\n",
       " [0.484468969],\n",
       " [0.484699672],\n",
       " [0.492844644],\n",
       " [0.494455801],\n",
       " [0.495057268],\n",
       " [0.49557094],\n",
       " [0.496450369],\n",
       " [0.496826417],\n",
       " [0.500479336],\n",
       " [0.500920935],\n",
       " [0.501012977],\n",
       " [0.501588109],\n",
       " [0.501701412],\n",
       " [0.502660955],\n",
       " [0.508428341],\n",
       " [0.510145017],\n",
       " [0.510276221],\n",
       " [0.510409624],\n",
       " [0.510988247],\n",
       " [0.518113588],\n",
       " [0.518148583],\n",
       " [0.518436144],\n",
       " [0.520836804],\n",
       " [0.523381743],\n",
       " [0.527765661],\n",
       " [0.528310601],\n",
       " [0.529686919],\n",
       " [0.530188701],\n",
       " [0.532772021],\n",
       " [0.533825446],\n",
       " [0.534260308],\n",
       " [0.534658516],\n",
       " [0.534699565],\n",
       " [0.534798505],\n",
       " [0.535312841],\n",
       " [0.535534904],\n",
       " [0.537893212],\n",
       " [0.538636705],\n",
       " [0.543742131],\n",
       " [0.544316054],\n",
       " [0.546370248],\n",
       " [0.546823829],\n",
       " [0.547004803],\n",
       " [0.547299022],\n",
       " [0.547493701],\n",
       " [0.547958165],\n",
       " [0.548364042],\n",
       " [0.549322528],\n",
       " [0.551296788],\n",
       " [0.552868474],\n",
       " [0.554005584],\n",
       " [0.554242283],\n",
       " [0.555560357],\n",
       " [0.557065866],\n",
       " [0.557634655],\n",
       " [0.557845306],\n",
       " [0.559292233],\n",
       " [0.560234189],\n",
       " [0.560297507],\n",
       " [0.562124558],\n",
       " [0.562534324],\n",
       " [0.563102409],\n",
       " [0.564291151],\n",
       " [0.564602291],\n",
       " [0.566203195],\n",
       " [0.566571146],\n",
       " [0.567090119],\n",
       " [0.567658136]]"
      ]
     },
     "execution_count": 14,
     "metadata": {},
     "output_type": "execute_result"
    }
   ],
   "source": [
    "m[:100]"
   ]
  }
 ],
 "metadata": {
  "kernelspec": {
   "display_name": "Python 3.9.13 ('pytorch')",
   "language": "python",
   "name": "python3"
  },
  "language_info": {
   "codemirror_mode": {
    "name": "ipython",
    "version": 3
   },
   "file_extension": ".py",
   "mimetype": "text/x-python",
   "name": "python",
   "nbconvert_exporter": "python",
   "pygments_lexer": "ipython3",
   "version": "3.9.13"
  },
  "orig_nbformat": 4,
  "vscode": {
   "interpreter": {
    "hash": "cc40295abfe64802fc0a773300b50725a51b24d09df8dee4b845a03d985ddb9f"
   }
  }
 },
 "nbformat": 4,
 "nbformat_minor": 2
}
