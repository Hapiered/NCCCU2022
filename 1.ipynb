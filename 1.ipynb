{
 "cells": [
  {
   "cell_type": "code",
   "execution_count": 1,
   "metadata": {},
   "outputs": [],
   "source": [
    "import dlib\n",
    "import cv2\n",
    "import numpy as np\n",
    "import face_recognition\n"
   ]
  },
  {
   "cell_type": "code",
   "execution_count": 6,
   "metadata": {},
   "outputs": [
    {
     "ename": "IndexError",
     "evalue": "list index out of range",
     "output_type": "error",
     "traceback": [
      "\u001b[1;31m---------------------------------------------------------------------------\u001b[0m",
      "\u001b[1;31mIndexError\u001b[0m                                Traceback (most recent call last)",
      "\u001b[1;32md:\\1MyLearningData\\1Mphil\\Competition\\NCCCU2022\\1.ipynb Cell 2\u001b[0m in \u001b[0;36m<cell line: 4>\u001b[1;34m()\u001b[0m\n\u001b[0;32m      <a href='vscode-notebook-cell:/d%3A/1MyLearningData/1Mphil/Competition/NCCCU2022/1.ipynb#W1sZmlsZQ%3D%3D?line=0'>1</a>\u001b[0m image \u001b[39m=\u001b[39m face_recognition\u001b[39m.\u001b[39mload_image_file(\u001b[39m\"\u001b[39m\u001b[39ma.jpg\u001b[39m\u001b[39m\"\u001b[39m)\n\u001b[0;32m      <a href='vscode-notebook-cell:/d%3A/1MyLearningData/1Mphil/Competition/NCCCU2022/1.ipynb#W1sZmlsZQ%3D%3D?line=1'>2</a>\u001b[0m face_locations \u001b[39m=\u001b[39m face_recognition\u001b[39m.\u001b[39mface_locations(image)\n\u001b[1;32m----> <a href='vscode-notebook-cell:/d%3A/1MyLearningData/1Mphil/Competition/NCCCU2022/1.ipynb#W1sZmlsZQ%3D%3D?line=3'>4</a>\u001b[0m img \u001b[39m=\u001b[39m image[face_locations[\u001b[39m0\u001b[39;49m][\u001b[39m0\u001b[39m]:face_locations[\u001b[39m0\u001b[39m][\u001b[39m2\u001b[39m], face_locations[\u001b[39m0\u001b[39m][\u001b[39m3\u001b[39m]:face_locations[\u001b[39m0\u001b[39m][\u001b[39m1\u001b[39m]]\n\u001b[0;32m      <a href='vscode-notebook-cell:/d%3A/1MyLearningData/1Mphil/Competition/NCCCU2022/1.ipynb#W1sZmlsZQ%3D%3D?line=4'>5</a>\u001b[0m face_encoding \u001b[39m=\u001b[39m face_recognition\u001b[39m.\u001b[39mface_encodings(image, face_locations)[\u001b[39m0\u001b[39m]\n",
      "\u001b[1;31mIndexError\u001b[0m: list index out of range"
     ]
    }
   ],
   "source": [
    "image = face_recognition.load_image_file(\"a.jpg\")\n",
    "face_locations = face_recognition.face_locations(image)\n",
    "\n",
    "img = image[face_locations[0][0]:face_locations[0][2], face_locations[0][3]:face_locations[0][1]]\n",
    "face_encoding = face_recognition.face_encodings(image, face_locations)[0]"
   ]
  },
  {
   "cell_type": "code",
   "execution_count": null,
   "metadata": {},
   "outputs": [],
   "source": [
    "a = np.asarray([ [1,2,3], [4,5,6], [7,8,9] ])\n",
    "pd.DataFrame(a).to_csv('sample.csv')"
   ]
  }
 ],
 "metadata": {
  "kernelspec": {
   "display_name": "Python 3.9.13 ('pytorch')",
   "language": "python",
   "name": "python3"
  },
  "language_info": {
   "codemirror_mode": {
    "name": "ipython",
    "version": 3
   },
   "file_extension": ".py",
   "mimetype": "text/x-python",
   "name": "python",
   "nbconvert_exporter": "python",
   "pygments_lexer": "ipython3",
   "version": "3.9.13"
  },
  "orig_nbformat": 4,
  "vscode": {
   "interpreter": {
    "hash": "cc40295abfe64802fc0a773300b50725a51b24d09df8dee4b845a03d985ddb9f"
   }
  }
 },
 "nbformat": 4,
 "nbformat_minor": 2
}
