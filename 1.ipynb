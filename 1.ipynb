{
 "cells": [
  {
   "cell_type": "code",
   "execution_count": null,
   "metadata": {},
   "outputs": [],
   "source": [
    "import dlib\n",
    "import cv2\n",
    "import numpy as np\n",
    "import face_recognition\n",
    "import pandas as pd"
   ]
  },
  {
   "cell_type": "code",
   "execution_count": null,
   "metadata": {},
   "outputs": [],
   "source": [
    "train_data=pd.read_csv(r\"train\\annos.csv\")\n",
    "train_data.insert(train_data.shape[1],'EuDist',-1)\n",
    "train_data.insert(train_data.shape[1],'SimDist',-1)\n"
   ]
  },
  {
   "cell_type": "code",
   "execution_count": null,
   "metadata": {},
   "outputs": [],
   "source": [
    "train_data.at[ 1, \"EuDist\"]=1"
   ]
  },
  {
   "cell_type": "code",
   "execution_count": null,
   "metadata": {},
   "outputs": [],
   "source": [
    "image = face_recognition.load_image_file(r\"D:\\1mylearningdata\\1mphil\\Competition\\NCCCU2022\\1my\\train\\data\\452\\a.jpg\")\n",
    "image = cv2.fastNlMeansDenoisingColored(image, None, 30, 30, 7, 21)\n",
    "\n",
    "face_locations = face_recognition.face_locations(image)\n",
    "\n",
    "img = image[face_locations[0][0]:face_locations[0][2], face_locations[0][3]:face_locations[0][1]]\n",
    "face_encoding = face_recognition.face_encodings(image, face_locations)[0]"
   ]
  },
  {
   "cell_type": "code",
   "execution_count": null,
   "metadata": {},
   "outputs": [],
   "source": [
    "a = np.asarray([ [1,2,3], [4,5,6], [7,8,9] ])\n",
    "pd.DataFrame(a).to_csv('sample.csv')"
   ]
  },
  {
   "cell_type": "code",
   "execution_count": null,
   "metadata": {},
   "outputs": [],
   "source": [
    "import dlib\n",
    "import cv2\n",
    "import numpy as np\n",
    "import face_recognition\n",
    "import pandas as pd\n",
    "import os\n",
    "\n",
    "\n",
    "def getFaceEncoding(src):\n",
    "    image = face_recognition.load_image_file(src)\n",
    "    image=cv2.resize(image,(image.shape[1]*2,image.shape[0]*2))\n",
    "    image = cv2.medianBlur(image, 7)\n",
    "    image = cv2.fastNlMeansDenoisingColored(image, None, 10, 10, 7, 21)\n",
    "    face_locations = face_recognition.face_locations(image)\n",
    "    if face_locations == []:\n",
    "        return np.array([])\n",
    "    img = image[face_locations[0][0]:face_locations[0][2], face_locations[0][3]:face_locations[0][1]]\n",
    "    face_encoding = face_recognition.face_encodings(image, face_locations)[0]\n",
    "    return face_encoding\n",
    "\n",
    "\n",
    "def getEuDist(img_encoding1, img_encoding2):\n",
    "    img_encoding1 = np.array(img_encoding1)\n",
    "    img_encoding2 = np.array(img_encoding2)\n",
    "    diff = np.subtract(img_encoding1, img_encoding2)\n",
    "    dist = np.sqrt(np.sum(np.square(diff)))\n",
    "    return dist\n",
    "\n",
    "\n",
    "def getSimDist(img_encoding1, img_encoding2):\n",
    "    img_encoding1 = np.array(img_encoding1)\n",
    "    img_encoding2 = np.array(img_encoding2)\n",
    "    dist = np.linalg.norm(img_encoding1 - img_encoding2)\n",
    "    sim = 1.0 / (1.0 + dist)\n",
    "    return sim\n",
    "\n",
    "\n",
    "id_imgGroup=[]\n",
    "train_data=pd.read_csv(r\"train\\annos.csv\")\n",
    "train_data.insert(train_data.shape[1],'EuDist',np.nan)\n",
    "train_data.insert(train_data.shape[1],'SimDist',np.nan)\n",
    "train_path = \"train\\data\"\n",
    "file = os.walk(train_path)\n",
    "for sub_path, sub_dir_list, sub_file_list in file:\n",
    "    for sub_dir_name in sub_dir_list:\n",
    "        sub_file = os.walk(os.path.join(sub_path, sub_dir_name))\n",
    "\n",
    "        for sub2_path, sub2_dir_list, sub2_file_list in sub_file:\n",
    "            img_encoding1 = getFaceEncoding(os.path.join(sub2_path, sub2_file_list[0]))\n",
    "            img_encoding2 = getFaceEncoding(os.path.join(sub2_path, sub2_file_list[1]))\n",
    "            if (img_encoding1.size == 0) or (img_encoding2.size == 0):\n",
    "                continue\n",
    "            else:\n",
    "                print(sub_dir_name)\n",
    "                eu_dist = getEuDist(img_encoding1, img_encoding2)\n",
    "                sim_dist = getSimDist(img_encoding1, img_encoding2)\n",
    "                train_data.at[int(sub_dir_name),\"EuDist\"]=eu_dist\n",
    "                train_data.at[int(sub_dir_name),\"SimDist\"]=sim_dist\n",
    "                # print(os.path.join(sub2_path, sub2_file_name))\n"
   ]
  },
  {
   "cell_type": "code",
   "execution_count": null,
   "metadata": {},
   "outputs": [],
   "source": [
    "train_data.to_csv(\"train_data3.csv\",index_label=\"id\")"
   ]
  }
 ],
 "metadata": {
  "kernelspec": {
   "display_name": "Python 3.9.13 ('pytorch')",
   "language": "python",
   "name": "python3"
  },
  "language_info": {
   "codemirror_mode": {
    "name": "ipython",
    "version": 3
   },
   "file_extension": ".py",
   "mimetype": "text/x-python",
   "name": "python",
   "nbconvert_exporter": "python",
   "pygments_lexer": "ipython3",
   "version": "3.9.13"
  },
  "orig_nbformat": 4,
  "vscode": {
   "interpreter": {
    "hash": "cc40295abfe64802fc0a773300b50725a51b24d09df8dee4b845a03d985ddb9f"
   }
  }
 },
 "nbformat": 4,
 "nbformat_minor": 2
}
